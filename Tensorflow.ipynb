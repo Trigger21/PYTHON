{
  "nbformat": 4,
  "nbformat_minor": 0,
  "metadata": {
    "colab": {
      "name": "Tensorflow.ipynb",
      "version": "0.3.2",
      "provenance": []
    },
    "kernelspec": {
      "name": "python3",
      "display_name": "Python 3"
    }
  },
  "cells": [
    {
      "cell_type": "markdown",
      "metadata": {
        "id": "view-in-github",
        "colab_type": "text"
      },
      "source": [
        "[View in Colaboratory](https://colab.research.google.com/github/TAEHYOKIM/Python/blob/master/Tensorflow.ipynb)"
      ]
    },
    {
      "metadata": {
        "id": "mMdUs1wCVzX_",
        "colab_type": "text"
      },
      "cell_type": "markdown",
      "source": [
        "# 1.텐서프로우 기초"
      ]
    },
    {
      "metadata": {
        "id": "Odre8GzTU_Ik",
        "colab_type": "code",
        "colab": {}
      },
      "cell_type": "code",
      "source": [
        "import tensorflow as tf"
      ],
      "execution_count": 0,
      "outputs": []
    },
    {
      "metadata": {
        "id": "rzp_PrkOVS4H",
        "colab_type": "code",
        "colab": {
          "base_uri": "https://localhost:8080/",
          "height": 34
        },
        "outputId": "88e41f8d-0215-4908-c7aa-872a69c8b7ce"
      },
      "cell_type": "code",
      "source": [
        "# Hello 출력하기\n",
        "hello = tf.constant(\"Hello Tensorflow!\")\n",
        "sess = tf.Session()\n",
        "print(sess.run(hello))"
      ],
      "execution_count": 6,
      "outputs": [
        {
          "output_type": "stream",
          "text": [
            "b'Hello Tensorflow!'\n"
          ],
          "name": "stdout"
        }
      ]
    },
    {
      "metadata": {
        "id": "_R0RLjzRVv5U",
        "colab_type": "code",
        "colab": {
          "base_uri": "https://localhost:8080/",
          "height": 34
        },
        "outputId": "fbb435b8-7d56-4e67-be42-aec7ab3db290"
      },
      "cell_type": "code",
      "source": [
        "node1 = tf.constant(3.0,tf.float32)\n",
        "node2 = tf.constant(4.0)\n",
        "node3 = tf.add(node1,node2)\n",
        "print(node1,node2,node3)"
      ],
      "execution_count": 7,
      "outputs": [
        {
          "output_type": "stream",
          "text": [
            "Tensor(\"Const_1:0\", shape=(), dtype=float32) Tensor(\"Const_2:0\", shape=(), dtype=float32) Tensor(\"Add:0\", shape=(), dtype=float32)\n"
          ],
          "name": "stdout"
        }
      ]
    },
    {
      "metadata": {
        "id": "8mWujHS6XChR",
        "colab_type": "code",
        "colab": {
          "base_uri": "https://localhost:8080/",
          "height": 51
        },
        "outputId": "b2caac86-1345-43bb-8d66-414183373cda"
      },
      "cell_type": "code",
      "source": [
        "sess = tf.Session()\n",
        "print(sess.run([node1,node2]))\n",
        "print(sess.run(node3))"
      ],
      "execution_count": 9,
      "outputs": [
        {
          "output_type": "stream",
          "text": [
            "[3.0, 4.0]\n",
            "7.0\n"
          ],
          "name": "stdout"
        }
      ]
    },
    {
      "metadata": {
        "id": "6lC4C6pEX8pX",
        "colab_type": "code",
        "colab": {}
      },
      "cell_type": "code",
      "source": [
        ""
      ],
      "execution_count": 0,
      "outputs": []
    }
  ]
}